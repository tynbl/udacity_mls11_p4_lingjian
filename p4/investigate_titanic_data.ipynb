{
 "cells": [
  {
   "cell_type": "markdown",
   "metadata": {},
   "source": [
    "# <center>泰坦尼克号乘客样本数据分析报告</center>"
   ]
  },
  {
   "cell_type": "markdown",
   "metadata": {},
   "source": [
    "## 一、项目说明\n",
    "本项目是优达学城（Udacity）机器学习（入门）课程的一个探索数据集实践项目。<br>\n",
    "样本数据下载自[泰坦尼克号数据](https://github.com/ShiChJ/DAND-Basic-Materials/blob/master/P2/Project_Files/titanic-data.csv)：该数据集包含了泰坦尼克号上 2224 名乘客和船员中 891 名的人口学数据和乘客基本信息。<br>\n",
    "同时在 [Kaggle 网站](https://www.kaggle.com/c/titanic/data)上可以查看这个数据集的详细描述，而这个数据集就是来自 Kaggle。<br>"
   ]
  },
  {
   "cell_type": "code",
   "execution_count": 1,
   "metadata": {},
   "outputs": [
    {
     "name": "stdout",
     "output_type": "stream",
     "text": [
      "Lingjian \n",
      "last updated: 2018-02-04 \n",
      "\n",
      "CPython 3.6.1\n",
      "IPython 6.0.0\n",
      "\n",
      "numpy 1.14.0\n",
      "pandas 0.22.0\n",
      "matplotlib 2.0.2\n"
     ]
    }
   ],
   "source": [
    "# 水印魔术命令\n",
    "%load_ext watermark\n",
    "%watermark -a \"Lingjian\" -u -d -v -p numpy,pandas,matplotlib"
   ]
  },
  {
   "cell_type": "markdown",
   "metadata": {},
   "source": [
    "## 二、数据加载预览"
   ]
  },
  {
   "cell_type": "code",
   "execution_count": 2,
   "metadata": {
    "collapsed": true
   },
   "outputs": [],
   "source": [
    "# 可视化显示魔术命令\n",
    "%matplotlib inline\n",
    "\n",
    "import numpy as np\n",
    "import pandas as pd\n",
    "import matplotlib.pyplot as plt\n",
    "\n",
    "# 可视化中文字体显示设置\n",
    "plt.rc('font', family='SimHei', size=13)\n",
    "# 可视化负号显示设置\n",
    "plt.rc('axes', unicode_minus=False)"
   ]
  },
  {
   "cell_type": "code",
   "execution_count": 3,
   "metadata": {},
   "outputs": [
    {
     "data": {
      "text/html": [
       "<div>\n",
       "<style scoped>\n",
       "    .dataframe tbody tr th:only-of-type {\n",
       "        vertical-align: middle;\n",
       "    }\n",
       "\n",
       "    .dataframe tbody tr th {\n",
       "        vertical-align: top;\n",
       "    }\n",
       "\n",
       "    .dataframe thead th {\n",
       "        text-align: right;\n",
       "    }\n",
       "</style>\n",
       "<table border=\"1\" class=\"dataframe\">\n",
       "  <thead>\n",
       "    <tr style=\"text-align: right;\">\n",
       "      <th></th>\n",
       "      <th>PassengerId</th>\n",
       "      <th>Survived</th>\n",
       "      <th>Pclass</th>\n",
       "      <th>Name</th>\n",
       "      <th>Sex</th>\n",
       "      <th>Age</th>\n",
       "      <th>SibSp</th>\n",
       "      <th>Parch</th>\n",
       "      <th>Ticket</th>\n",
       "      <th>Fare</th>\n",
       "      <th>Cabin</th>\n",
       "      <th>Embarked</th>\n",
       "    </tr>\n",
       "  </thead>\n",
       "  <tbody>\n",
       "    <tr>\n",
       "      <th>0</th>\n",
       "      <td>1</td>\n",
       "      <td>0</td>\n",
       "      <td>3</td>\n",
       "      <td>Braund, Mr. Owen Harris</td>\n",
       "      <td>male</td>\n",
       "      <td>22.0</td>\n",
       "      <td>1</td>\n",
       "      <td>0</td>\n",
       "      <td>A/5 21171</td>\n",
       "      <td>7.2500</td>\n",
       "      <td>NaN</td>\n",
       "      <td>S</td>\n",
       "    </tr>\n",
       "    <tr>\n",
       "      <th>1</th>\n",
       "      <td>2</td>\n",
       "      <td>1</td>\n",
       "      <td>1</td>\n",
       "      <td>Cumings, Mrs. John Bradley (Florence Briggs Th...</td>\n",
       "      <td>female</td>\n",
       "      <td>38.0</td>\n",
       "      <td>1</td>\n",
       "      <td>0</td>\n",
       "      <td>PC 17599</td>\n",
       "      <td>71.2833</td>\n",
       "      <td>C85</td>\n",
       "      <td>C</td>\n",
       "    </tr>\n",
       "    <tr>\n",
       "      <th>2</th>\n",
       "      <td>3</td>\n",
       "      <td>1</td>\n",
       "      <td>3</td>\n",
       "      <td>Heikkinen, Miss. Laina</td>\n",
       "      <td>female</td>\n",
       "      <td>26.0</td>\n",
       "      <td>0</td>\n",
       "      <td>0</td>\n",
       "      <td>STON/O2. 3101282</td>\n",
       "      <td>7.9250</td>\n",
       "      <td>NaN</td>\n",
       "      <td>S</td>\n",
       "    </tr>\n",
       "    <tr>\n",
       "      <th>3</th>\n",
       "      <td>4</td>\n",
       "      <td>1</td>\n",
       "      <td>1</td>\n",
       "      <td>Futrelle, Mrs. Jacques Heath (Lily May Peel)</td>\n",
       "      <td>female</td>\n",
       "      <td>35.0</td>\n",
       "      <td>1</td>\n",
       "      <td>0</td>\n",
       "      <td>113803</td>\n",
       "      <td>53.1000</td>\n",
       "      <td>C123</td>\n",
       "      <td>S</td>\n",
       "    </tr>\n",
       "    <tr>\n",
       "      <th>4</th>\n",
       "      <td>5</td>\n",
       "      <td>0</td>\n",
       "      <td>3</td>\n",
       "      <td>Allen, Mr. William Henry</td>\n",
       "      <td>male</td>\n",
       "      <td>35.0</td>\n",
       "      <td>0</td>\n",
       "      <td>0</td>\n",
       "      <td>373450</td>\n",
       "      <td>8.0500</td>\n",
       "      <td>NaN</td>\n",
       "      <td>S</td>\n",
       "    </tr>\n",
       "  </tbody>\n",
       "</table>\n",
       "</div>"
      ],
      "text/plain": [
       "   PassengerId  Survived  Pclass  \\\n",
       "0            1         0       3   \n",
       "1            2         1       1   \n",
       "2            3         1       3   \n",
       "3            4         1       1   \n",
       "4            5         0       3   \n",
       "\n",
       "                                                Name     Sex   Age  SibSp  \\\n",
       "0                            Braund, Mr. Owen Harris    male  22.0      1   \n",
       "1  Cumings, Mrs. John Bradley (Florence Briggs Th...  female  38.0      1   \n",
       "2                             Heikkinen, Miss. Laina  female  26.0      0   \n",
       "3       Futrelle, Mrs. Jacques Heath (Lily May Peel)  female  35.0      1   \n",
       "4                           Allen, Mr. William Henry    male  35.0      0   \n",
       "\n",
       "   Parch            Ticket     Fare Cabin Embarked  \n",
       "0      0         A/5 21171   7.2500   NaN        S  \n",
       "1      0          PC 17599  71.2833   C85        C  \n",
       "2      0  STON/O2. 3101282   7.9250   NaN        S  \n",
       "3      0            113803  53.1000  C123        S  \n",
       "4      0            373450   8.0500   NaN        S  "
      ]
     },
     "execution_count": 3,
     "metadata": {},
     "output_type": "execute_result"
    }
   ],
   "source": [
    "# 用 pandas 读取 csv 文件，加载到数据框（DataFrame）\n",
    "raw_passengers_df = pd.read_csv('titanic-data.csv')\n",
    "# 原始数据预览\n",
    "raw_passengers_df.head()"
   ]
  },
  {
   "cell_type": "code",
   "execution_count": 4,
   "metadata": {},
   "outputs": [
    {
     "name": "stdout",
     "output_type": "stream",
     "text": [
      "<class 'pandas.core.frame.DataFrame'>\n",
      "RangeIndex: 891 entries, 0 to 890\n",
      "Data columns (total 12 columns):\n",
      "PassengerId    891 non-null int64\n",
      "Survived       891 non-null int64\n",
      "Pclass         891 non-null int64\n",
      "Name           891 non-null object\n",
      "Sex            891 non-null object\n",
      "Age            714 non-null float64\n",
      "SibSp          891 non-null int64\n",
      "Parch          891 non-null int64\n",
      "Ticket         891 non-null object\n",
      "Fare           891 non-null float64\n",
      "Cabin          204 non-null object\n",
      "Embarked       889 non-null object\n",
      "dtypes: float64(2), int64(5), object(5)\n",
      "memory usage: 83.6+ KB\n"
     ]
    }
   ],
   "source": [
    "# 原始数据基本信息\n",
    "raw_passengers_df.info()"
   ]
  },
  {
   "cell_type": "markdown",
   "metadata": {},
   "source": [
    "基本信息显示，数据集有891条记录，有PassengerId、Survived、Pclass、Name、Sex、Age等12个字段。<br>\n",
    "其中，有714条 Age 非空值记录（也就是有177条 Age 为空值的记录），Cabin 为非空值的只有少量记录；<br>\n",
    "有数据类型为 float64 的字段有2个，为 int64 的有5个，为 object 的有5个。"
   ]
  },
  {
   "cell_type": "markdown",
   "metadata": {},
   "source": [
    "### 原始数据字段含义说明：\n",
    "PassengerId：乘客编号<br>\n",
    "Survived：是否幸存  0 = 遇难，1 = 幸存<br>\n",
    "Pclass：船舱等级  1 = 头等舱，2 = 二等舱，3 = 三等舱<br>\n",
    "Name：乘客姓名<br>\n",
    "Sex：性别<br>\n",
    "Age：年龄<br>\n",
    "SibSp：登船的兄弟姐妹或配偶个数<br>\n",
    "Parch：登船的父母或小孩个数<br>\n",
    "Ticket：船票号码<br>\n",
    "Fare：船票价格<br>\n",
    "Cabin：船舱号<br>\n",
    "Embarked：登船港口<br>"
   ]
  },
  {
   "cell_type": "markdown",
   "metadata": {},
   "source": [
    "## 三、提出问题"
   ]
  },
  {
   "cell_type": "markdown",
   "metadata": {},
   "source": [
    "初步预览数据后，我想针对数据提出以下问题：\n",
    "#### 问题（1）全部样本乘客幸存者比例是多少？\n",
    "#### 问题（2）不同性别乘客当中幸存者比例分别是多少？ 女性乘客当中幸存者比例是否比男性高？\n",
    "#### 问题（3）船舱等级越高幸存者比例是否越高？\n",
    "#### 问题（4）各年龄段的幸存者比例有何不同？\n",
    "#### 问题（5）全部样本乘客各个属性与幸存的相关性如何？"
   ]
  },
  {
   "cell_type": "markdown",
   "metadata": {},
   "source": [
    "## 四、数据预处理"
   ]
  },
  {
   "cell_type": "code",
   "execution_count": 5,
   "metadata": {
    "collapsed": true
   },
   "outputs": [],
   "source": [
    "# 数据预处理用的自定义函数\n",
    "\n",
    "# 年龄分段\n",
    "def age_to_group(age):\n",
    "    if age >= 70:\n",
    "        return '70+'\n",
    "    elif age >= 60:\n",
    "        return '60+'\n",
    "    elif age >= 50:\n",
    "        return '50+'\n",
    "    elif age >= 40:\n",
    "        return '40+'\n",
    "    elif age >= 30:\n",
    "        return '30+'\n",
    "    elif age >= 20:\n",
    "        return '20+'\n",
    "    elif age >= 10:\n",
    "        return '10+'\n",
    "    elif age >= 0:\n",
    "        return '0+'\n",
    "    else:\n",
    "        return '未知'\n",
    "\n",
    "# 年龄分段改进，对年龄缺失的部分乘客按称谓做年龄分段\n",
    "def age_to_group_fix(age_name_df):\n",
    "    if age_name_df['Age'] >= 70:\n",
    "        return '70+'\n",
    "    elif age_name_df['Age'] >= 60:\n",
    "        return '60+'\n",
    "    elif age_name_df['Age'] >= 50:\n",
    "        return '50+'\n",
    "    elif age_name_df['Age'] >= 40:\n",
    "        return '40+'\n",
    "    elif age_name_df['Age'] >= 30:\n",
    "        return '30+'\n",
    "    elif age_name_df['Age'] >= 20:\n",
    "        return '20+'\n",
    "    elif age_name_df['Age'] >= 10:\n",
    "        return '10+'\n",
    "    elif age_name_df['Age'] >= 0:\n",
    "        return '0+'\n",
    "    elif 'Master'in age_name_df['Name']: # Master 称谓的乘客平均年龄是 4.574167\n",
    "        return '0+'\n",
    "    elif 'Miss'in age_name_df['Name']: # Miss 称谓的乘客平均年龄是 21.773973\n",
    "        return '20+'\n",
    "    else:\n",
    "        return '未知'\n",
    "\n",
    "# 性别的中文名称，便于可视化展示\n",
    "def sex_to_chn(sex):\n",
    "    if sex == 'male':\n",
    "        return '男性'\n",
    "    elif sex == 'female':\n",
    "        return '女性'\n",
    "    else:\n",
    "        return '未知'\n",
    "\n",
    "# 性别的有序编码，便于计算\n",
    "def sex_to_code(sex):\n",
    "    if sex == 'male':\n",
    "        return 0\n",
    "    elif sex == 'female':\n",
    "        return 1\n",
    "    else:\n",
    "        return -1\n",
    "\n",
    "# 船舱等级的中文名称，便于可视化展示\n",
    "def pclass_to_chn(pclass):\n",
    "    if pclass == 1:\n",
    "        return '头等舱'\n",
    "    elif pclass == 2:\n",
    "        return '二等舱'\n",
    "    elif pclass == 3:\n",
    "        return '三等舱'\n",
    "    else:\n",
    "        return '未知'\n",
    "\n",
    "# 船舱等级的有序编码，便于计算\n",
    "def pclass_to_code(pclass):\n",
    "    if pclass == 1:\n",
    "        return 2\n",
    "    elif pclass == 2:\n",
    "        return 1\n",
    "    elif pclass == 3:\n",
    "        return 0\n",
    "    else:\n",
    "        return -1\n",
    "\n",
    "# 幸存与否的中文名称，便于可视化展示\n",
    "def survived_to_chn(survived):\n",
    "    if survived == 0:\n",
    "        return '遇难者'\n",
    "    elif survived == 1:\n",
    "        return '幸存者'\n",
    "    else:\n",
    "        return '未知'\n",
    "    "
   ]
  },
  {
   "cell_type": "code",
   "execution_count": 6,
   "metadata": {
    "collapsed": true
   },
   "outputs": [],
   "source": [
    "# 深拷贝，创建新数据框，用于后续数据预处理及数据探索分析\n",
    "passengers_df = raw_passengers_df.copy()\n",
    "\n",
    "# 为了方便后续相关指标的可视化展示或计算，在新数据框中增加下面字段\n",
    "passengers_df.insert(6,'年龄段',passengers_df['Age'].apply(age_to_group))\n",
    "passengers_df.insert(6,'年龄段_改进后',passengers_df[['Age', 'Name']].apply(age_to_group_fix, axis=1))\n",
    "passengers_df.insert(5,'性别',passengers_df['Sex'].apply(sex_to_chn))\n",
    "passengers_df.insert(5,'SexCode',passengers_df['Sex'].apply(sex_to_code))\n",
    "passengers_df.insert(3,'船舱等级',passengers_df['Pclass'].apply(pclass_to_chn))\n",
    "passengers_df.insert(3,'PclassCode',passengers_df['Pclass'].apply(pclass_to_code))\n",
    "passengers_df.insert(2,'是否幸存',passengers_df['Survived'].apply(survived_to_chn))"
   ]
  },
  {
   "cell_type": "code",
   "execution_count": 7,
   "metadata": {},
   "outputs": [
    {
     "data": {
      "text/html": [
       "<div>\n",
       "<style scoped>\n",
       "    .dataframe tbody tr th:only-of-type {\n",
       "        vertical-align: middle;\n",
       "    }\n",
       "\n",
       "    .dataframe tbody tr th {\n",
       "        vertical-align: top;\n",
       "    }\n",
       "\n",
       "    .dataframe thead th {\n",
       "        text-align: right;\n",
       "    }\n",
       "</style>\n",
       "<table border=\"1\" class=\"dataframe\">\n",
       "  <thead>\n",
       "    <tr style=\"text-align: right;\">\n",
       "      <th></th>\n",
       "      <th>PassengerId</th>\n",
       "      <th>Survived</th>\n",
       "      <th>是否幸存</th>\n",
       "      <th>Pclass</th>\n",
       "      <th>PclassCode</th>\n",
       "      <th>船舱等级</th>\n",
       "      <th>Name</th>\n",
       "      <th>Sex</th>\n",
       "      <th>SexCode</th>\n",
       "      <th>性别</th>\n",
       "      <th>Age</th>\n",
       "      <th>年龄段_改进后</th>\n",
       "      <th>年龄段</th>\n",
       "      <th>SibSp</th>\n",
       "      <th>Parch</th>\n",
       "      <th>Ticket</th>\n",
       "      <th>Fare</th>\n",
       "      <th>Cabin</th>\n",
       "      <th>Embarked</th>\n",
       "    </tr>\n",
       "  </thead>\n",
       "  <tbody>\n",
       "    <tr>\n",
       "      <th>0</th>\n",
       "      <td>1</td>\n",
       "      <td>0</td>\n",
       "      <td>遇难者</td>\n",
       "      <td>3</td>\n",
       "      <td>0</td>\n",
       "      <td>三等舱</td>\n",
       "      <td>Braund, Mr. Owen Harris</td>\n",
       "      <td>male</td>\n",
       "      <td>0</td>\n",
       "      <td>男性</td>\n",
       "      <td>22.0</td>\n",
       "      <td>20+</td>\n",
       "      <td>20+</td>\n",
       "      <td>1</td>\n",
       "      <td>0</td>\n",
       "      <td>A/5 21171</td>\n",
       "      <td>7.2500</td>\n",
       "      <td>NaN</td>\n",
       "      <td>S</td>\n",
       "    </tr>\n",
       "    <tr>\n",
       "      <th>1</th>\n",
       "      <td>2</td>\n",
       "      <td>1</td>\n",
       "      <td>幸存者</td>\n",
       "      <td>1</td>\n",
       "      <td>2</td>\n",
       "      <td>头等舱</td>\n",
       "      <td>Cumings, Mrs. John Bradley (Florence Briggs Th...</td>\n",
       "      <td>female</td>\n",
       "      <td>1</td>\n",
       "      <td>女性</td>\n",
       "      <td>38.0</td>\n",
       "      <td>30+</td>\n",
       "      <td>30+</td>\n",
       "      <td>1</td>\n",
       "      <td>0</td>\n",
       "      <td>PC 17599</td>\n",
       "      <td>71.2833</td>\n",
       "      <td>C85</td>\n",
       "      <td>C</td>\n",
       "    </tr>\n",
       "    <tr>\n",
       "      <th>2</th>\n",
       "      <td>3</td>\n",
       "      <td>1</td>\n",
       "      <td>幸存者</td>\n",
       "      <td>3</td>\n",
       "      <td>0</td>\n",
       "      <td>三等舱</td>\n",
       "      <td>Heikkinen, Miss. Laina</td>\n",
       "      <td>female</td>\n",
       "      <td>1</td>\n",
       "      <td>女性</td>\n",
       "      <td>26.0</td>\n",
       "      <td>20+</td>\n",
       "      <td>20+</td>\n",
       "      <td>0</td>\n",
       "      <td>0</td>\n",
       "      <td>STON/O2. 3101282</td>\n",
       "      <td>7.9250</td>\n",
       "      <td>NaN</td>\n",
       "      <td>S</td>\n",
       "    </tr>\n",
       "    <tr>\n",
       "      <th>3</th>\n",
       "      <td>4</td>\n",
       "      <td>1</td>\n",
       "      <td>幸存者</td>\n",
       "      <td>1</td>\n",
       "      <td>2</td>\n",
       "      <td>头等舱</td>\n",
       "      <td>Futrelle, Mrs. Jacques Heath (Lily May Peel)</td>\n",
       "      <td>female</td>\n",
       "      <td>1</td>\n",
       "      <td>女性</td>\n",
       "      <td>35.0</td>\n",
       "      <td>30+</td>\n",
       "      <td>30+</td>\n",
       "      <td>1</td>\n",
       "      <td>0</td>\n",
       "      <td>113803</td>\n",
       "      <td>53.1000</td>\n",
       "      <td>C123</td>\n",
       "      <td>S</td>\n",
       "    </tr>\n",
       "    <tr>\n",
       "      <th>4</th>\n",
       "      <td>5</td>\n",
       "      <td>0</td>\n",
       "      <td>遇难者</td>\n",
       "      <td>3</td>\n",
       "      <td>0</td>\n",
       "      <td>三等舱</td>\n",
       "      <td>Allen, Mr. William Henry</td>\n",
       "      <td>male</td>\n",
       "      <td>0</td>\n",
       "      <td>男性</td>\n",
       "      <td>35.0</td>\n",
       "      <td>30+</td>\n",
       "      <td>30+</td>\n",
       "      <td>0</td>\n",
       "      <td>0</td>\n",
       "      <td>373450</td>\n",
       "      <td>8.0500</td>\n",
       "      <td>NaN</td>\n",
       "      <td>S</td>\n",
       "    </tr>\n",
       "  </tbody>\n",
       "</table>\n",
       "</div>"
      ],
      "text/plain": [
       "   PassengerId  Survived 是否幸存  Pclass  PclassCode 船舱等级  \\\n",
       "0            1         0  遇难者       3           0  三等舱   \n",
       "1            2         1  幸存者       1           2  头等舱   \n",
       "2            3         1  幸存者       3           0  三等舱   \n",
       "3            4         1  幸存者       1           2  头等舱   \n",
       "4            5         0  遇难者       3           0  三等舱   \n",
       "\n",
       "                                                Name     Sex  SexCode  性别  \\\n",
       "0                            Braund, Mr. Owen Harris    male        0  男性   \n",
       "1  Cumings, Mrs. John Bradley (Florence Briggs Th...  female        1  女性   \n",
       "2                             Heikkinen, Miss. Laina  female        1  女性   \n",
       "3       Futrelle, Mrs. Jacques Heath (Lily May Peel)  female        1  女性   \n",
       "4                           Allen, Mr. William Henry    male        0  男性   \n",
       "\n",
       "    Age 年龄段_改进后  年龄段  SibSp  Parch            Ticket     Fare Cabin Embarked  \n",
       "0  22.0     20+  20+      1      0         A/5 21171   7.2500   NaN        S  \n",
       "1  38.0     30+  30+      1      0          PC 17599  71.2833   C85        C  \n",
       "2  26.0     20+  20+      0      0  STON/O2. 3101282   7.9250   NaN        S  \n",
       "3  35.0     30+  30+      1      0            113803  53.1000  C123        S  \n",
       "4  35.0     30+  30+      0      0            373450   8.0500   NaN        S  "
      ]
     },
     "execution_count": 7,
     "metadata": {},
     "output_type": "execute_result"
    }
   ],
   "source": [
    "# 预处理后数据预览\n",
    "passengers_df.head()"
   ]
  },
  {
   "cell_type": "markdown",
   "metadata": {},
   "source": [
    "## 五、数据探索分析"
   ]
  },
  {
   "cell_type": "code",
   "execution_count": 8,
   "metadata": {
    "collapsed": true
   },
   "outputs": [],
   "source": [
    "# 分组幸存者比例及可视化 自定义函数\n",
    "def groups_survived_rate_charts(groupby_c1=None, groupby_c2=None):\n",
    "    '''\n",
    "        按输入的一个或两个字段名称 分组求遇难者、幸存者人数及幸存者比例，并进行可视化。\n",
    "        返回数据框(DataFrame)，其中包含各个组别的遇难者、幸存者人数及幸存者比例。\n",
    "    '''\n",
    "    # 可视化 x 轴坐标标签方向\n",
    "    var_rot = 'horizontal'\n",
    "\n",
    "    # 确定分组字段\n",
    "    if groupby_c1 == None and groupby_c2 == None:\n",
    "        return print('请至少输入一个分组字段')\n",
    "    elif groupby_c1 != None and groupby_c2 == None:\n",
    "        groupby_cs = [groupby_c1, '是否幸存']\n",
    "    elif groupby_c1 == None and groupby_c2 != None:\n",
    "        groupby_cs = [groupby_c2, '是否幸存']\n",
    "    else:\n",
    "        groupby_cs = [groupby_c1, groupby_c2, '是否幸存']\n",
    "        var_rot = 'vertical'\n",
    "\n",
    "    # 按分组字段汇总人数\n",
    "    groups_data = passengers_df.groupby(groupby_cs).size()\n",
    "    # 最后一层索引(即“是否幸存”)人数进行 行列转换\n",
    "    groups_data_df = groups_data.unstack()\n",
    "    # 按行计算幸存者比例，并插入到新列 \n",
    "    groups_data_df.insert(2, '幸存者比例', groups_data_df['幸存者'] / groups_data_df.sum(axis=1))\n",
    "    groups_data_df.columns.name = None  # 为了数据框数据显示明确，这里设为空\n",
    "    \n",
    "    # 分组人数堆叠柱状图\n",
    "    groups_data_df[['遇难者', '幸存者']].plot(kind='bar', stacked=True, alpha=0.6)\n",
    "    plt.ylabel(\"人数\")\n",
    "    # 幸存者比例折线图\n",
    "    groups_data_df['幸存者比例'].plot(secondary_y=True, kind='line', style='gd-', rot=var_rot)\n",
    "    plt.ylabel(\"幸存者比例\")\n",
    "\n",
    "    plt.show()\n",
    "\n",
    "    # 返回数据框\n",
    "    return groups_data_df\n"
   ]
  },
  {
   "cell_type": "markdown",
   "metadata": {},
   "source": [
    "#### 问题（1）的探索"
   ]
  },
  {
   "cell_type": "code",
   "execution_count": 9,
   "metadata": {},
   "outputs": [
    {
     "data": {
      "text/html": [
       "<div>\n",
       "<style scoped>\n",
       "    .dataframe tbody tr th:only-of-type {\n",
       "        vertical-align: middle;\n",
       "    }\n",
       "\n",
       "    .dataframe tbody tr th {\n",
       "        vertical-align: top;\n",
       "    }\n",
       "\n",
       "    .dataframe thead th {\n",
       "        text-align: right;\n",
       "    }\n",
       "</style>\n",
       "<table border=\"1\" class=\"dataframe\">\n",
       "  <thead>\n",
       "    <tr style=\"text-align: right;\">\n",
       "      <th></th>\n",
       "      <th>幸存者</th>\n",
       "      <th>遇难者</th>\n",
       "      <th>幸存者比例</th>\n",
       "    </tr>\n",
       "  </thead>\n",
       "  <tbody>\n",
       "    <tr>\n",
       "      <th>全部样本乘客</th>\n",
       "      <td>342</td>\n",
       "      <td>549</td>\n",
       "      <td>0.383838</td>\n",
       "    </tr>\n",
       "  </tbody>\n",
       "</table>\n",
       "</div>"
      ],
      "text/plain": [
       "        幸存者  遇难者     幸存者比例\n",
       "全部样本乘客  342  549  0.383838"
      ]
     },
     "execution_count": 9,
     "metadata": {},
     "output_type": "execute_result"
    }
   ],
   "source": [
    "# 全部样本乘客求遇难者、幸存者人数及幸存者比例\n",
    "all_passengers_group_data = passengers_df.groupby(['是否幸存']).size()  # 求人数\n",
    "all_passengers_group_data_df = all_passengers_group_data.to_frame().T  # 转换成数据框\n",
    "all_passengers_group_data_df.insert(2, '幸存者比例', all_passengers_group_data_df['幸存者'] / all_passengers_group_data_df.sum(1))  # 求幸存者比例\n",
    "all_passengers_survived_rate_df = all_passengers_group_data_df.set_index([['全部样本乘客']])  # 为了数据框数据显示明确，建该名称的索引\n",
    "all_passengers_survived_rate_df.columns.name = None  # 为了数据框数据显示明确，这里设为空\n",
    "all_passengers_survived_rate_df"
   ]
  },
  {
   "cell_type": "markdown",
   "metadata": {},
   "source": [
    "问题（1）的探索结果是 全部样本乘客幸存者比例是0.38，为了描述方便，我在下文将此比例称为“样本平均水平”。"
   ]
  },
  {
   "cell_type": "markdown",
   "metadata": {},
   "source": [
    "#### 问题（2）的探索"
   ]
  },
  {
   "cell_type": "code",
   "execution_count": 10,
   "metadata": {},
   "outputs": [
    {
     "data": {
      "image/png": "[encoded data removed]",
      "text/plain": [
       "<matplotlib.figure.Figure at 0xf80b588>"
      ]
     },
     "metadata": {},
     "output_type": "display_data"
    },
    {
     "data": {
      "text/html": [
       "<div>\n",
       "<style scoped>\n",
       "    .dataframe tbody tr th:only-of-type {\n",
       "        vertical-align: middle;\n",
       "    }\n",
       "\n",
       "    .dataframe tbody tr th {\n",
       "        vertical-align: top;\n",
       "    }\n",
       "\n",
       "    .dataframe thead th {\n",
       "        text-align: right;\n",
       "    }\n",
       "</style>\n",
       "<table border=\"1\" class=\"dataframe\">\n",
       "  <thead>\n",
       "    <tr style=\"text-align: right;\">\n",
       "      <th></th>\n",
       "      <th>幸存者</th>\n",
       "      <th>遇难者</th>\n",
       "      <th>幸存者比例</th>\n",
       "    </tr>\n",
       "    <tr>\n",
       "      <th>性别</th>\n",
       "      <th></th>\n",
       "      <th></th>\n",
       "      <th></th>\n",
       "    </tr>\n",
       "  </thead>\n",
       "  <tbody>\n",
       "    <tr>\n",
       "      <th>女性</th>\n",
       "      <td>233</td>\n",
       "      <td>81</td>\n",
       "      <td>0.742038</td>\n",
       "    </tr>\n",
       "    <tr>\n",
       "      <th>男性</th>\n",
       "      <td>109</td>\n",
       "      <td>468</td>\n",
       "      <td>0.188908</td>\n",
       "    </tr>\n",
       "  </tbody>\n",
       "</table>\n",
       "</div>"
      ],
      "text/plain": [
       "    幸存者  遇难者     幸存者比例\n",
       "性别                    \n",
       "女性  233   81  0.742038\n",
       "男性  109  468  0.188908"
      ]
     },
     "execution_count": 10,
     "metadata": {},
     "output_type": "execute_result"
    }
   ],
   "source": [
    "# 按性别 分组求遇难者、幸存者人数及幸存者比例\n",
    "groups_survived_rate_charts('性别')"
   ]
  },
  {
   "cell_type": "markdown",
   "metadata": {},
   "source": [
    "问题（2）的探索结果是 女性乘客当中幸存者比例远大于男性当中幸存者比例，且比样本平均水平高出近1倍。"
   ]
  },
  {
   "cell_type": "markdown",
   "metadata": {},
   "source": [
    "#### 问题（3）的探索"
   ]
  },
  {
   "cell_type": "code",
   "execution_count": 11,
   "metadata": {},
   "outputs": [
    {
     "data": {
      "image/png": "[encoded data removed]",
      "text/plain": [
       "<matplotlib.figure.Figure at 0xfaf33c8>"
      ]
     },
     "metadata": {},
     "output_type": "display_data"
    },
    {
     "data": {
      "text/html": [
       "<div>\n",
       "<style scoped>\n",
       "    .dataframe tbody tr th:only-of-type {\n",
       "        vertical-align: middle;\n",
       "    }\n",
       "\n",
       "    .dataframe tbody tr th {\n",
       "        vertical-align: top;\n",
       "    }\n",
       "\n",
       "    .dataframe thead th {\n",
       "        text-align: right;\n",
       "    }\n",
       "</style>\n",
       "<table border=\"1\" class=\"dataframe\">\n",
       "  <thead>\n",
       "    <tr style=\"text-align: right;\">\n",
       "      <th></th>\n",
       "      <th>幸存者</th>\n",
       "      <th>遇难者</th>\n",
       "      <th>幸存者比例</th>\n",
       "    </tr>\n",
       "    <tr>\n",
       "      <th>船舱等级</th>\n",
       "      <th></th>\n",
       "      <th></th>\n",
       "      <th></th>\n",
       "    </tr>\n",
       "  </thead>\n",
       "  <tbody>\n",
       "    <tr>\n",
       "      <th>三等舱</th>\n",
       "      <td>119</td>\n",
       "      <td>372</td>\n",
       "      <td>0.242363</td>\n",
       "    </tr>\n",
       "    <tr>\n",
       "      <th>二等舱</th>\n",
       "      <td>87</td>\n",
       "      <td>97</td>\n",
       "      <td>0.472826</td>\n",
       "    </tr>\n",
       "    <tr>\n",
       "      <th>头等舱</th>\n",
       "      <td>136</td>\n",
       "      <td>80</td>\n",
       "      <td>0.629630</td>\n",
       "    </tr>\n",
       "  </tbody>\n",
       "</table>\n",
       "</div>"
      ],
      "text/plain": [
       "      幸存者  遇难者     幸存者比例\n",
       "船舱等级                    \n",
       "三等舱   119  372  0.242363\n",
       "二等舱    87   97  0.472826\n",
       "头等舱   136   80  0.629630"
      ]
     },
     "execution_count": 11,
     "metadata": {},
     "output_type": "execute_result"
    }
   ],
   "source": [
    "# 按船舱等级 分组求遇难者、幸存者人数及幸存者比例\n",
    "groups_survived_rate_charts('船舱等级')"
   ]
  },
  {
   "cell_type": "markdown",
   "metadata": {},
   "source": [
    "问题（3）的探索结果是 船舱等级越高幸存者比例也越高，且三等舱低于样本平均水平，二等舱、头等舱皆高于样本平均水平。"
   ]
  },
  {
   "cell_type": "markdown",
   "metadata": {},
   "source": [
    "#### 问题（2）、（3）的综合探索"
   ]
  },
  {
   "cell_type": "code",
   "execution_count": 12,
   "metadata": {},
   "outputs": [
    {
     "data": {
      "image/png": "[encoded data removed]",
      "text/plain": [
       "<matplotlib.figure.Figure at 0x10773ef0>"
      ]
     },
     "metadata": {},
     "output_type": "display_data"
    },
    {
     "data": {
      "text/html": [
       "<div>\n",
       "<style scoped>\n",
       "    .dataframe tbody tr th:only-of-type {\n",
       "        vertical-align: middle;\n",
       "    }\n",
       "\n",
       "    .dataframe tbody tr th {\n",
       "        vertical-align: top;\n",
       "    }\n",
       "\n",
       "    .dataframe thead th {\n",
       "        text-align: right;\n",
       "    }\n",
       "</style>\n",
       "<table border=\"1\" class=\"dataframe\">\n",
       "  <thead>\n",
       "    <tr style=\"text-align: right;\">\n",
       "      <th></th>\n",
       "      <th></th>\n",
       "      <th>幸存者</th>\n",
       "      <th>遇难者</th>\n",
       "      <th>幸存者比例</th>\n",
       "    </tr>\n",
       "    <tr>\n",
       "      <th>性别</th>\n",
       "      <th>船舱等级</th>\n",
       "      <th></th>\n",
       "      <th></th>\n",
       "      <th></th>\n",
       "    </tr>\n",
       "  </thead>\n",
       "  <tbody>\n",
       "    <tr>\n",
       "      <th rowspan=\"3\" valign=\"top\">女性</th>\n",
       "      <th>三等舱</th>\n",
       "      <td>72</td>\n",
       "      <td>72</td>\n",
       "      <td>0.500000</td>\n",
       "    </tr>\n",
       "    <tr>\n",
       "      <th>二等舱</th>\n",
       "      <td>70</td>\n",
       "      <td>6</td>\n",
       "      <td>0.921053</td>\n",
       "    </tr>\n",
       "    <tr>\n",
       "      <th>头等舱</th>\n",
       "      <td>91</td>\n",
       "      <td>3</td>\n",
       "      <td>0.968085</td>\n",
       "    </tr>\n",
       "    <tr>\n",
       "      <th rowspan=\"3\" valign=\"top\">男性</th>\n",
       "      <th>三等舱</th>\n",
       "      <td>47</td>\n",
       "      <td>300</td>\n",
       "      <td>0.135447</td>\n",
       "    </tr>\n",
       "    <tr>\n",
       "      <th>二等舱</th>\n",
       "      <td>17</td>\n",
       "      <td>91</td>\n",
       "      <td>0.157407</td>\n",
       "    </tr>\n",
       "    <tr>\n",
       "      <th>头等舱</th>\n",
       "      <td>45</td>\n",
       "      <td>77</td>\n",
       "      <td>0.368852</td>\n",
       "    </tr>\n",
       "  </tbody>\n",
       "</table>\n",
       "</div>"
      ],
      "text/plain": [
       "         幸存者  遇难者     幸存者比例\n",
       "性别 船舱等级                    \n",
       "女性 三等舱    72   72  0.500000\n",
       "   二等舱    70    6  0.921053\n",
       "   头等舱    91    3  0.968085\n",
       "男性 三等舱    47  300  0.135447\n",
       "   二等舱    17   91  0.157407\n",
       "   头等舱    45   77  0.368852"
      ]
     },
     "execution_count": 12,
     "metadata": {},
     "output_type": "execute_result"
    }
   ],
   "source": [
    "# 按性别、船舱等级 分组求遇难者、幸存者人数及幸存者比例\n",
    "groups_survived_rate_charts('性别', '船舱等级')"
   ]
  },
  {
   "cell_type": "markdown",
   "metadata": {},
   "source": [
    "问题（2）、（3）的综合探索结果是：<br>\n",
    "头等舱女性当中幸存者比例最高（接近1），而三等舱男性当中幸存者比例最低（约0.13）。<br>\n",
    "整体趋势是女性在不同等级的船舱中随着船舱等级的变高幸存者比例也变高，且头等舱比二等舱略高，但比三等舱高出近1倍；<br>\n",
    "同样男性在不同等级的船舱中随着船舱等级的变高幸存者比例也变高，且头等舱比二等舱高出1倍，接近样本平均水平，而二等舱略高于三等舱；<br>\n",
    "比较有趣的一点是女性在3个不同等级的船舱中幸存者比例皆高于男性。<br>\n",
    "这次综合探索结果更加印证了问题（2）、问题（3）的单独探索结果。"
   ]
  },
  {
   "cell_type": "markdown",
   "metadata": {},
   "source": [
    "#### 问题（4）的探索"
   ]
  },
  {
   "cell_type": "code",
   "execution_count": 13,
   "metadata": {
    "scrolled": true
   },
   "outputs": [
    {
     "data": {
      "image/png": "[encoded data removed]",
      "text/plain": [
       "<matplotlib.figure.Figure at 0x129677f0>"
      ]
     },
     "metadata": {},
     "output_type": "display_data"
    },
    {
     "data": {
      "text/html": [
       "<div>\n",
       "<style scoped>\n",
       "    .dataframe tbody tr th:only-of-type {\n",
       "        vertical-align: middle;\n",
       "    }\n",
       "\n",
       "    .dataframe tbody tr th {\n",
       "        vertical-align: top;\n",
       "    }\n",
       "\n",
       "    .dataframe thead th {\n",
       "        text-align: right;\n",
       "    }\n",
       "</style>\n",
       "<table border=\"1\" class=\"dataframe\">\n",
       "  <thead>\n",
       "    <tr style=\"text-align: right;\">\n",
       "      <th></th>\n",
       "      <th>幸存者</th>\n",
       "      <th>遇难者</th>\n",
       "      <th>幸存者比例</th>\n",
       "    </tr>\n",
       "    <tr>\n",
       "      <th>年龄段</th>\n",
       "      <th></th>\n",
       "      <th></th>\n",
       "      <th></th>\n",
       "    </tr>\n",
       "  </thead>\n",
       "  <tbody>\n",
       "    <tr>\n",
       "      <th>0+</th>\n",
       "      <td>38</td>\n",
       "      <td>24</td>\n",
       "      <td>0.612903</td>\n",
       "    </tr>\n",
       "    <tr>\n",
       "      <th>10+</th>\n",
       "      <td>41</td>\n",
       "      <td>61</td>\n",
       "      <td>0.401961</td>\n",
       "    </tr>\n",
       "    <tr>\n",
       "      <th>20+</th>\n",
       "      <td>77</td>\n",
       "      <td>143</td>\n",
       "      <td>0.350000</td>\n",
       "    </tr>\n",
       "    <tr>\n",
       "      <th>30+</th>\n",
       "      <td>73</td>\n",
       "      <td>94</td>\n",
       "      <td>0.437126</td>\n",
       "    </tr>\n",
       "    <tr>\n",
       "      <th>40+</th>\n",
       "      <td>34</td>\n",
       "      <td>55</td>\n",
       "      <td>0.382022</td>\n",
       "    </tr>\n",
       "    <tr>\n",
       "      <th>50+</th>\n",
       "      <td>20</td>\n",
       "      <td>28</td>\n",
       "      <td>0.416667</td>\n",
       "    </tr>\n",
       "    <tr>\n",
       "      <th>60+</th>\n",
       "      <td>6</td>\n",
       "      <td>13</td>\n",
       "      <td>0.315789</td>\n",
       "    </tr>\n",
       "    <tr>\n",
       "      <th>70+</th>\n",
       "      <td>1</td>\n",
       "      <td>6</td>\n",
       "      <td>0.142857</td>\n",
       "    </tr>\n",
       "    <tr>\n",
       "      <th>未知</th>\n",
       "      <td>52</td>\n",
       "      <td>125</td>\n",
       "      <td>0.293785</td>\n",
       "    </tr>\n",
       "  </tbody>\n",
       "</table>\n",
       "</div>"
      ],
      "text/plain": [
       "     幸存者  遇难者     幸存者比例\n",
       "年龄段                    \n",
       "0+    38   24  0.612903\n",
       "10+   41   61  0.401961\n",
       "20+   77  143  0.350000\n",
       "30+   73   94  0.437126\n",
       "40+   34   55  0.382022\n",
       "50+   20   28  0.416667\n",
       "60+    6   13  0.315789\n",
       "70+    1    6  0.142857\n",
       "未知    52  125  0.293785"
      ]
     },
     "execution_count": 13,
     "metadata": {},
     "output_type": "execute_result"
    }
   ],
   "source": [
    "# 按年龄段 分组求遇难者、幸存者人数及幸存者比例\n",
    "groups_survived_rate_charts('年龄段')"
   ]
  },
  {
   "cell_type": "markdown",
   "metadata": {},
   "source": [
    "我们发现未知年龄的乘客人数较多，有没有办法对年龄缺失问题进行适当处理呢？<br>\n",
    "查看源数据发现，Name字段含有对乘客称谓的信息(比如 Master. Miss. Mr. Mrs. Ms.)，<br>\n",
    "根据常识，Miss.是对未婚女子的称呼，另查资料发现 Master.是20世纪初对未成年男子的一种称呼，<br>\n",
    "根据这些信息我们可以将缺失年龄值的这两类人划分到相应年龄段（而其余称谓的年龄跨度太大，我们不做缺失值处理）。"
   ]
  },
  {
   "cell_type": "code",
   "execution_count": 14,
   "metadata": {},
   "outputs": [
    {
     "data": {
      "text/plain": [
       "count    36.000000\n",
       "mean      4.574167\n",
       "std       3.619872\n",
       "min       0.420000\n",
       "25%       1.000000\n",
       "50%       3.500000\n",
       "75%       8.000000\n",
       "max      12.000000\n",
       "Name: Age, dtype: float64"
      ]
     },
     "execution_count": 14,
     "metadata": {},
     "output_type": "execute_result"
    }
   ],
   "source": [
    "# Master.称谓乘客的年龄分布情况\n",
    "master_passengers = passengers_df['Name'].str.contains('Master.')\n",
    "master_passengers_df = passengers_df[master_passengers]\n",
    "master_passengers_df['Age'].describe()"
   ]
  },
  {
   "cell_type": "code",
   "execution_count": 15,
   "metadata": {},
   "outputs": [
    {
     "data": {
      "text/plain": [
       "count    146.000000\n",
       "mean      21.773973\n",
       "std       12.990292\n",
       "min        0.750000\n",
       "25%       14.125000\n",
       "50%       21.000000\n",
       "75%       30.000000\n",
       "max       63.000000\n",
       "Name: Age, dtype: float64"
      ]
     },
     "execution_count": 15,
     "metadata": {},
     "output_type": "execute_result"
    }
   ],
   "source": [
    "# Miss.称谓乘客的年龄分布情况\n",
    "miss_passengers = passengers_df['Name'].str.contains('Miss.')\n",
    "miss_passengers_df = passengers_df[miss_passengers]\n",
    "miss_passengers_df['Age'].describe()"
   ]
  },
  {
   "cell_type": "markdown",
   "metadata": {},
   "source": [
    "以上统计发现，<br>\n",
    "Master.称谓乘客的平均年龄约4.57，<br>\n",
    "Miss.称谓乘客的平均年龄约21.77，<br>\n",
    "所以根据均值插入法我将年龄缺失的Master.称谓乘客归到 0+（即0至10(不含)）年龄段，<br>\n",
    "将年龄缺失的Miss.称谓乘客归到 20+（即20至30(不含)）年龄段。<br>\n",
    "下面是改进后年龄段分组统计情况：<br>"
   ]
  },
  {
   "cell_type": "code",
   "execution_count": 16,
   "metadata": {},
   "outputs": [
    {
     "data": {
      "image/png": "[encoded data removed]",
      "text/plain": [
       "<matplotlib.figure.Figure at 0x12a8e160>"
      ]
     },
     "metadata": {},
     "output_type": "display_data"
    },
    {
     "data": {
      "text/html": [
       "<div>\n",
       "<style scoped>\n",
       "    .dataframe tbody tr th:only-of-type {\n",
       "        vertical-align: middle;\n",
       "    }\n",
       "\n",
       "    .dataframe tbody tr th {\n",
       "        vertical-align: top;\n",
       "    }\n",
       "\n",
       "    .dataframe thead th {\n",
       "        text-align: right;\n",
       "    }\n",
       "</style>\n",
       "<table border=\"1\" class=\"dataframe\">\n",
       "  <thead>\n",
       "    <tr style=\"text-align: right;\">\n",
       "      <th></th>\n",
       "      <th>幸存者</th>\n",
       "      <th>遇难者</th>\n",
       "      <th>幸存者比例</th>\n",
       "    </tr>\n",
       "    <tr>\n",
       "      <th>年龄段_改进后</th>\n",
       "      <th></th>\n",
       "      <th></th>\n",
       "      <th></th>\n",
       "    </tr>\n",
       "  </thead>\n",
       "  <tbody>\n",
       "    <tr>\n",
       "      <th>0+</th>\n",
       "      <td>40</td>\n",
       "      <td>26</td>\n",
       "      <td>0.606061</td>\n",
       "    </tr>\n",
       "    <tr>\n",
       "      <th>10+</th>\n",
       "      <td>41</td>\n",
       "      <td>61</td>\n",
       "      <td>0.401961</td>\n",
       "    </tr>\n",
       "    <tr>\n",
       "      <th>20+</th>\n",
       "      <td>99</td>\n",
       "      <td>157</td>\n",
       "      <td>0.386719</td>\n",
       "    </tr>\n",
       "    <tr>\n",
       "      <th>30+</th>\n",
       "      <td>73</td>\n",
       "      <td>94</td>\n",
       "      <td>0.437126</td>\n",
       "    </tr>\n",
       "    <tr>\n",
       "      <th>40+</th>\n",
       "      <td>34</td>\n",
       "      <td>55</td>\n",
       "      <td>0.382022</td>\n",
       "    </tr>\n",
       "    <tr>\n",
       "      <th>50+</th>\n",
       "      <td>20</td>\n",
       "      <td>28</td>\n",
       "      <td>0.416667</td>\n",
       "    </tr>\n",
       "    <tr>\n",
       "      <th>60+</th>\n",
       "      <td>6</td>\n",
       "      <td>13</td>\n",
       "      <td>0.315789</td>\n",
       "    </tr>\n",
       "    <tr>\n",
       "      <th>70+</th>\n",
       "      <td>1</td>\n",
       "      <td>6</td>\n",
       "      <td>0.142857</td>\n",
       "    </tr>\n",
       "    <tr>\n",
       "      <th>未知</th>\n",
       "      <td>28</td>\n",
       "      <td>109</td>\n",
       "      <td>0.204380</td>\n",
       "    </tr>\n",
       "  </tbody>\n",
       "</table>\n",
       "</div>"
      ],
      "text/plain": [
       "         幸存者  遇难者     幸存者比例\n",
       "年龄段_改进后                    \n",
       "0+        40   26  0.606061\n",
       "10+       41   61  0.401961\n",
       "20+       99  157  0.386719\n",
       "30+       73   94  0.437126\n",
       "40+       34   55  0.382022\n",
       "50+       20   28  0.416667\n",
       "60+        6   13  0.315789\n",
       "70+        1    6  0.142857\n",
       "未知        28  109  0.204380"
      ]
     },
     "execution_count": 16,
     "metadata": {},
     "output_type": "execute_result"
    }
   ],
   "source": [
    "# 按改进后年龄段 分组求遇难者、幸存者人数及幸存者比例\n",
    "groups_survived_rate_charts('年龄段_改进后')"
   ]
  },
  {
   "cell_type": "markdown",
   "metadata": {},
   "source": [
    "改进后，未知年龄段人数从 177（52+125）人下降到 137（28+109）人；<br>\n",
    "相应的，0+（即0至10(不含)）年龄段人数从 62（38+24）人增加到 66（40+26）人，<br>\n",
    "20+（即20至30(不含)）年龄段人数从 220（77+143）人增加到 256（99+157）人。"
   ]
  },
  {
   "cell_type": "markdown",
   "metadata": {},
   "source": [
    "问题（4）的探索结果是：<br>\n",
    "0+（即0至10(不含)）年龄段乘客当中幸存者比例最高（约0.6，1.5倍于样本平均水平），<br>\n",
    "10+、30+、50+ 年龄段乘客当中幸存者比例高于略高于样本平均水平，<br>\n",
    "20+、40+ 年龄段乘客当中幸存者比例持平于样本平均水平，<br>\n",
    "60+、70+ 以及未知年龄段乘客当中幸存者比例低于样本平均水平，<br>\n",
    "其中70+（即大于70(含)）年龄段乘客当中幸存者比例最低（约0.14），<br>\n",
    "所以从整体趋势看是随着年龄段变高，幸存者比例变小。"
   ]
  },
  {
   "cell_type": "markdown",
   "metadata": {},
   "source": [
    "#### 问题（5）的探索"
   ]
  },
  {
   "cell_type": "code",
   "execution_count": 17,
   "metadata": {
    "scrolled": true
   },
   "outputs": [
    {
     "data": {
      "image/png": "[encoded data removed]",
      "text/plain": [
       "<matplotlib.figure.Figure at 0x5412d68>"
      ]
     },
     "metadata": {},
     "output_type": "display_data"
    },
    {
     "data": {
      "text/html": [
       "<div>\n",
       "<style scoped>\n",
       "    .dataframe tbody tr th:only-of-type {\n",
       "        vertical-align: middle;\n",
       "    }\n",
       "\n",
       "    .dataframe tbody tr th {\n",
       "        vertical-align: top;\n",
       "    }\n",
       "\n",
       "    .dataframe thead th {\n",
       "        text-align: right;\n",
       "    }\n",
       "</style>\n",
       "<table border=\"1\" class=\"dataframe\">\n",
       "  <thead>\n",
       "    <tr style=\"text-align: right;\">\n",
       "      <th></th>\n",
       "      <th>Survived</th>\n",
       "      <th>PclassCode</th>\n",
       "      <th>SexCode</th>\n",
       "      <th>Age</th>\n",
       "      <th>SibSp</th>\n",
       "      <th>Parch</th>\n",
       "      <th>Fare</th>\n",
       "    </tr>\n",
       "  </thead>\n",
       "  <tbody>\n",
       "    <tr>\n",
       "      <th>Survived</th>\n",
       "      <td>1.000000</td>\n",
       "      <td>0.338481</td>\n",
       "      <td>0.543351</td>\n",
       "      <td>-0.077221</td>\n",
       "      <td>-0.035322</td>\n",
       "      <td>0.081629</td>\n",
       "      <td>0.257307</td>\n",
       "    </tr>\n",
       "    <tr>\n",
       "      <th>PclassCode</th>\n",
       "      <td>0.338481</td>\n",
       "      <td>1.000000</td>\n",
       "      <td>0.131900</td>\n",
       "      <td>0.369226</td>\n",
       "      <td>-0.083081</td>\n",
       "      <td>-0.018443</td>\n",
       "      <td>0.549500</td>\n",
       "    </tr>\n",
       "    <tr>\n",
       "      <th>SexCode</th>\n",
       "      <td>0.543351</td>\n",
       "      <td>0.131900</td>\n",
       "      <td>1.000000</td>\n",
       "      <td>-0.093254</td>\n",
       "      <td>0.114631</td>\n",
       "      <td>0.245489</td>\n",
       "      <td>0.182333</td>\n",
       "    </tr>\n",
       "    <tr>\n",
       "      <th>Age</th>\n",
       "      <td>-0.077221</td>\n",
       "      <td>0.369226</td>\n",
       "      <td>-0.093254</td>\n",
       "      <td>1.000000</td>\n",
       "      <td>-0.308247</td>\n",
       "      <td>-0.189119</td>\n",
       "      <td>0.096067</td>\n",
       "    </tr>\n",
       "    <tr>\n",
       "      <th>SibSp</th>\n",
       "      <td>-0.035322</td>\n",
       "      <td>-0.083081</td>\n",
       "      <td>0.114631</td>\n",
       "      <td>-0.308247</td>\n",
       "      <td>1.000000</td>\n",
       "      <td>0.414838</td>\n",
       "      <td>0.159651</td>\n",
       "    </tr>\n",
       "    <tr>\n",
       "      <th>Parch</th>\n",
       "      <td>0.081629</td>\n",
       "      <td>-0.018443</td>\n",
       "      <td>0.245489</td>\n",
       "      <td>-0.189119</td>\n",
       "      <td>0.414838</td>\n",
       "      <td>1.000000</td>\n",
       "      <td>0.216225</td>\n",
       "    </tr>\n",
       "    <tr>\n",
       "      <th>Fare</th>\n",
       "      <td>0.257307</td>\n",
       "      <td>0.549500</td>\n",
       "      <td>0.182333</td>\n",
       "      <td>0.096067</td>\n",
       "      <td>0.159651</td>\n",
       "      <td>0.216225</td>\n",
       "      <td>1.000000</td>\n",
       "    </tr>\n",
       "  </tbody>\n",
       "</table>\n",
       "</div>"
      ],
      "text/plain": [
       "            Survived  PclassCode   SexCode       Age     SibSp     Parch  \\\n",
       "Survived    1.000000    0.338481  0.543351 -0.077221 -0.035322  0.081629   \n",
       "PclassCode  0.338481    1.000000  0.131900  0.369226 -0.083081 -0.018443   \n",
       "SexCode     0.543351    0.131900  1.000000 -0.093254  0.114631  0.245489   \n",
       "Age        -0.077221    0.369226 -0.093254  1.000000 -0.308247 -0.189119   \n",
       "SibSp      -0.035322   -0.083081  0.114631 -0.308247  1.000000  0.414838   \n",
       "Parch       0.081629   -0.018443  0.245489 -0.189119  0.414838  1.000000   \n",
       "Fare        0.257307    0.549500  0.182333  0.096067  0.159651  0.216225   \n",
       "\n",
       "                Fare  \n",
       "Survived    0.257307  \n",
       "PclassCode  0.549500  \n",
       "SexCode     0.182333  \n",
       "Age         0.096067  \n",
       "SibSp       0.159651  \n",
       "Parch       0.216225  \n",
       "Fare        1.000000  "
      ]
     },
     "execution_count": 17,
     "metadata": {},
     "output_type": "execute_result"
    }
   ],
   "source": [
    "# 全部样本乘客各个属性的皮尔逊相关系数计算\n",
    "corr_df = passengers_df[['Survived', 'PclassCode', 'SexCode', 'Age', 'SibSp', 'Parch', 'Fare']].corr()\n",
    "plt.matshow(corr_df)\n",
    "plt.colorbar()\n",
    "plt.show()\n",
    "corr_df"
   ]
  },
  {
   "cell_type": "markdown",
   "metadata": {},
   "source": [
    "问题（5）的探索结果是：<br>\n",
    "乘客各个属性与幸存（值定义为1）的皮尔逊相关系数值高低依次是：<br>\n",
    "性别[SexCode]、<br>船舱等级[PclassCode]、<br>船票价格[Fare]、<br>登船的父母或小孩个数[Parch]、<br>登船的兄弟姐妹或配偶个数[SibSp]、<br>年龄[Age]<br>\n",
    "其中 性别[SexCode]、船舱等级[PclassCode]是与幸存呈正相关程度最高的前两个属性，也就是说越是女性乘客越可能幸存，船舱等级越高越可能幸存，这与前面问题（2）、（3）的探索结果吻合。<br>\n",
    "另外，年龄[Age]、登船的兄弟姐妹或配偶个数[SibSp]与幸存呈负相关（不过负相关程度都比较低），也就是说年龄越大越不可能幸存（与问题（4）的探索结果吻合），登船的兄弟姐妹或配偶个数越多越不可能幸存（这有点出乎意料！）。"
   ]
  },
  {
   "cell_type": "markdown",
   "metadata": {},
   "source": [
    "## 六、结论\n",
    "\n",
    "根据以上探索分析结果，我们可以得出结论：<br>\n",
    "1. 女性乘客的幸存可能性比男性乘客更高\n",
    "2. 船舱等级高的乘客幸存可能性比舱位等级低的乘客更高\n",
    "3. 低年龄段的乘客幸存可能性比高年龄段的乘客更高<br>\n",
    "\n",
    "当然，这些结论只是暂时的，因为我们分析的只是泰坦尼克号上部分乘客的样本数据，样本数据并未说明取样方式是随机的还是人为选择性的，如果样本数据不能反映总体情况的话，我们的结论也不能反映总体情况。在样本数据能反映整体情况的前提下，如果要判断数据差异是真正的差异还是数据中的噪音所导致，我们还需利用统计学来严格检查偶然得出这些结果的可能性。<br>\n",
    "\n",
    "另外，我们不能得出因为是女性乘客所以幸存可能性高，或者 因为是船舱等级高所以幸存可能性高，又或者 因为年龄小所以幸存可能性高。因为变量间相关性并不能直接表明因果关系，有可能是其他因素引起的。针对本项目中的结论，我觉得可能的其他因素是人类在灾难面前对女性、儿童的本能爱护有关；还有个人的社会身份地位、经济实力等因素影响着个人的抗灾能力。<br>\n",
    "\n",
    "我想，除了靠人性本能和个人能力外，提高灾难发生时幸存可能性在根本上还需要靠在灾难发生前要有合理的预案、充足的救灾人员物资，或许有一些灾难还可以从其他一些方面来努力避免。   "
   ]
  },
  {
   "cell_type": "markdown",
   "metadata": {},
   "source": [
    "参考：\n",
    "1. [泰坦尼克号乘客样本数据](https://github.com/ShiChJ/DAND-Basic-Materials/blob/master/P2/Project_Files/titanic-data.csv)\n",
    "2. [样本数据字典及相关说明](https://www.kaggle.com/c/titanic/data)\n",
    "3. [Pandas 可视化功能](http://pandas.pydata.org/pandas-docs/stable/visualization.html)\n",
    "4. [逻辑回归应用之Kaggle泰坦尼克之灾](http://blog.csdn.net/han_xiaoyang/article/details/49797143)\n",
    "5. [Python 数据分析超简单入门:项目实践篇](http://www.sohu.com/a/192940207_100000703)\n",
    "6. [Pandas DataFrame 皮尔逊相关系数计算](http://pandas.pydata.org/pandas-docs/stable/generated/pandas.DataFrame.corr.html)\n",
    "7. [皮尔逊相关系数计算](http://pandas.pydata.org/pandas-docs/stable/generated/pandas.DataFrame.corr.html)\n",
    "8. [皮尔逊相关系数可视化](https://matplotlib.org/api/_as_gen/matplotlib.pyplot.matshow.html?highlight=matshow#matplotlib.pyplot.matshow)\n",
    "9. [IPython 水印魔术命令使用](https://github.com/rasbt/watermark)\n",
    "10. [20年代初期英国master是对什么人的称呼](https://zhidao.baidu.com/question/1707555122611271460.html)"
   ]
  }
 ],
 "metadata": {
  "kernelspec": {
   "display_name": "Python 3",
   "language": "python",
   "name": "python3"
  },
  "language_info": {
   "codemirror_mode": {
    "name": "ipython",
    "version": 3
   },
   "file_extension": ".py",
   "mimetype": "text/x-python",
   "name": "python",
   "nbconvert_exporter": "python",
   "pygments_lexer": "ipython3",
   "version": "3.6.1"
  }
 },
 "nbformat": 4,
 "nbformat_minor": 2
}
